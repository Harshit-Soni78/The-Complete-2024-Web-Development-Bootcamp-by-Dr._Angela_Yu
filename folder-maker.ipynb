{
 "cells": [
  {
   "cell_type": "code",
   "execution_count": 1,
   "id": "ae293e3c",
   "metadata": {},
   "outputs": [],
   "source": [
    "import os\n",
    "\n",
    "def createFolder(folder_names:list[str]):\n",
    "    # 📂 Create folders and README.md files\n",
    "    for folder in folder_names:\n",
    "        os.makedirs(folder, exist_ok=True)\n",
    "        readme_path = os.path.join(folder, \"README.md\")\n",
    "        with open(readme_path, \"w\") as f:\n",
    "            pass  # Creates an empty README.md\n",
    "\n",
    "    print(\"✅ All folders and README.md files created successfully.\")"
   ]
  },
  {
   "cell_type": "markdown",
   "id": "9d9f0312",
   "metadata": {},
   "source": [
    "# folder names"
   ]
  },
  {
   "cell_type": "code",
   "execution_count": 2,
   "id": "4fc65e1b",
   "metadata": {},
   "outputs": [],
   "source": [
    "folder_name_dummy = [\"What is Web3\",\n",
    "\"How does the Blockchain actually work\",\n",
    "\"What are DApps (Decentralised Apps) and how do you develop them\",\n",
    "\"What is the Internet Computer (ICP)\",\n",
    "\"Read Me\",\n",
    "\"[Mac Users] Installation and Setup for Web3 Development\",\n",
    "\"[Windows Users] Installation and Setup for Web3 Development\"]"
   ]
  },
  {
   "cell_type": "code",
   "execution_count": 4,
   "id": "6bb4a05d",
   "metadata": {},
   "outputs": [
    {
     "name": "stdout",
     "output_type": "stream",
     "text": [
      "37.01 What is Web3\n",
      "37.02 How does the Blockchain actually work\n",
      "37.03 What are DApps (Decentralised Apps) and how do you develop them\n",
      "37.04 What is the Internet Computer (ICP)\n",
      "37.05 Read Me\n",
      "37.06 [Mac Users] Installation and Setup for Web3 Development\n",
      "37.07 [Windows Users] Installation and Setup for Web3 Development\n"
     ]
    }
   ],
   "source": [
    "sectionNumber = \"37.0\"\n",
    "i = 1\n",
    "folder_names = []\n",
    "for folder in folder_name_dummy:\n",
    "    if i == 10:\n",
    "        sectionNumber = sectionNumber[:-1]\n",
    "    name = sectionNumber + str(i) + \" \" + folder\n",
    "    folder_names.append(name)\n",
    "    i += 1\n",
    "    print(name)\n"
   ]
  },
  {
   "cell_type": "code",
   "execution_count": 5,
   "id": "a24f9642",
   "metadata": {},
   "outputs": [
    {
     "name": "stdout",
     "output_type": "stream",
     "text": [
      "✅ All folders and README.md files created successfully.\n"
     ]
    }
   ],
   "source": [
    "createFolder(folder_names)"
   ]
  },
  {
   "cell_type": "code",
   "execution_count": null,
   "id": "9250e780",
   "metadata": {},
   "outputs": [],
   "source": []
  }
 ],
 "metadata": {
  "kernelspec": {
   "display_name": "base",
   "language": "python",
   "name": "python3"
  },
  "language_info": {
   "codemirror_mode": {
    "name": "ipython",
    "version": 3
   },
   "file_extension": ".py",
   "mimetype": "text/x-python",
   "name": "python",
   "nbconvert_exporter": "python",
   "pygments_lexer": "ipython3",
   "version": "3.13.5"
  }
 },
 "nbformat": 4,
 "nbformat_minor": 5
}
